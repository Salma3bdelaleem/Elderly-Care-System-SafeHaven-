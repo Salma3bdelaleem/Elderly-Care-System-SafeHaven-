{
 "cells": [
  {
   "cell_type": "code",
   "execution_count": 1,
   "metadata": {
    "_cell_guid": "b1076dfc-b9ad-4769-8c92-a6c4dae69d19",
    "_uuid": "8f2839f25d086af736a60e9eeb907d3b93b6e0e5",
    "execution": {
     "iopub.execute_input": "2025-03-30T19:05:37.039011Z",
     "iopub.status.busy": "2025-03-30T19:05:37.038698Z",
     "iopub.status.idle": "2025-03-30T19:05:37.341171Z",
     "shell.execute_reply": "2025-03-30T19:05:37.340531Z",
     "shell.execute_reply.started": "2025-03-30T19:05:37.038985Z"
    },
    "trusted": true
   },
   "outputs": [],
   "source": [
    "# import needed libraries\n",
    "import os\n",
    "import shutil\n",
    "import numpy as np\n",
    "import pandas as pd"
   ]
  },
  {
   "cell_type": "code",
   "execution_count": 2,
   "metadata": {
    "execution": {
     "iopub.execute_input": "2025-03-30T19:05:37.342566Z",
     "iopub.status.busy": "2025-03-30T19:05:37.342240Z",
     "iopub.status.idle": "2025-03-30T19:05:41.793542Z",
     "shell.execute_reply": "2025-03-30T19:05:41.792621Z",
     "shell.execute_reply.started": "2025-03-30T19:05:37.342545Z"
    },
    "trusted": true
   },
   "outputs": [
    {
     "name": "stdout",
     "output_type": "stream",
     "text": [
      "Collecting split-folders\n",
      "  Downloading split_folders-0.5.1-py3-none-any.whl.metadata (6.2 kB)\n",
      "Downloading split_folders-0.5.1-py3-none-any.whl (8.4 kB)\n",
      "Installing collected packages: split-folders\n",
      "Successfully installed split-folders-0.5.1\n",
      "Note: you may need to restart the kernel to use updated packages.\n"
     ]
    }
   ],
   "source": [
    "pip install split-folders"
   ]
  },
  {
   "cell_type": "code",
   "execution_count": 3,
   "metadata": {
    "execution": {
     "iopub.execute_input": "2025-03-30T19:05:41.795886Z",
     "iopub.status.busy": "2025-03-30T19:05:41.795625Z",
     "iopub.status.idle": "2025-03-30T19:06:04.780811Z",
     "shell.execute_reply": "2025-03-30T19:06:04.779916Z",
     "shell.execute_reply.started": "2025-03-30T19:05:41.795864Z"
    },
    "trusted": true
   },
   "outputs": [
    {
     "name": "stderr",
     "output_type": "stream",
     "text": [
      "Copying files: 2585 files [00:22, 112.58 files/s]"
     ]
    },
    {
     "name": "stdout",
     "output_type": "stream",
     "text": [
      "Data split into Train / Validation / Test successfully!\n"
     ]
    },
    {
     "name": "stderr",
     "output_type": "stream",
     "text": [
      "\n"
     ]
    }
   ],
   "source": [
    "import splitfolders \n",
    "\n",
    "# المسار الأصلي للبيانات \n",
    "data = \"/kaggle/input/fall-elderly-people-detection\"\n",
    "\n",
    "# المجلد الذي سيتم تخزين البيانات المقسمة فيه\n",
    "data_after_split = \"dataset\"\n",
    "\n",
    "# تقسيم البيانات بنسبة 70% تدريب، 15% تحقق، 15% اختبار\n",
    "splitfolders.ratio(data, output=data_after_split, seed=42, ratio=(0.7, 0.15, 0.15))\n",
    "\n",
    "print(\"Data split into Train / Validation / Test successfully!\")"
   ]
  },
  {
   "cell_type": "code",
   "execution_count": 4,
   "metadata": {
    "execution": {
     "iopub.execute_input": "2025-03-30T19:06:04.782409Z",
     "iopub.status.busy": "2025-03-30T19:06:04.782158Z",
     "iopub.status.idle": "2025-03-30T19:06:04.790361Z",
     "shell.execute_reply": "2025-03-30T19:06:04.789650Z",
     "shell.execute_reply.started": "2025-03-30T19:06:04.782386Z"
    },
    "trusted": true
   },
   "outputs": [
    {
     "name": "stdout",
     "output_type": "stream",
     "text": [
      "TRAIN DATA:\n",
      "Not Fall: 1210 image\n",
      "Fall: 599 image\n",
      "VAL DATA:\n",
      "Not Fall: 259 image\n",
      "Fall: 128 image\n",
      "TEST DATA:\n",
      "Not Fall: 260 image\n",
      "Fall: 129 image\n"
     ]
    }
   ],
   "source": [
    "# التحقق من عدد الصور في كل مجموعة\n",
    "for subset in [\"train\", \"val\", \"test\"]:\n",
    "    print(f\"{subset.upper()} DATA:\")\n",
    "    for class_name in os.listdir(os.path.join(data_after_split, subset)):\n",
    "        class_folder = os.path.join(data_after_split, subset, class_name)\n",
    "        if os.path.isdir(class_folder):\n",
    "            print(f\"{class_name}: {len(os.listdir(class_folder))} image\")"
   ]
  },
  {
   "cell_type": "code",
   "execution_count": 5,
   "metadata": {
    "execution": {
     "iopub.execute_input": "2025-03-30T19:06:04.791478Z",
     "iopub.status.busy": "2025-03-30T19:06:04.791184Z",
     "iopub.status.idle": "2025-03-30T19:06:15.729367Z",
     "shell.execute_reply": "2025-03-30T19:06:15.728680Z",
     "shell.execute_reply.started": "2025-03-30T19:06:04.791449Z"
    },
    "trusted": true
   },
   "outputs": [
    {
     "name": "stdout",
     "output_type": "stream",
     "text": [
      "Found 1809 images belonging to 2 classes.\n",
      "Found 387 images belonging to 2 classes.\n",
      "Found 389 images belonging to 2 classes.\n",
      "Data uploaded successfully with Augmentation for training\n"
     ]
    }
   ],
   "source": [
    "from tensorflow.keras.preprocessing.image import ImageDataGenerator\n",
    "\n",
    "datagen = ImageDataGenerator(rescale=1./255)\n",
    "\n",
    "train_generator = datagen.flow_from_directory(\n",
    "    \"dataset/train\",\n",
    "    target_size=(612, 408),\n",
    "    batch_size=32,\n",
    "    class_mode=\"binary\"\n",
    ")\n",
    "\n",
    "val_generator = datagen.flow_from_directory(\n",
    "    \"dataset/val\",\n",
    "    target_size=(612, 408),\n",
    "    batch_size=32,\n",
    "    class_mode=\"binary\"\n",
    ")\n",
    "\n",
    "test_generator = datagen.flow_from_directory(\n",
    "    \"dataset/test\",\n",
    "    target_size=(612, 408),\n",
    "    batch_size=32,\n",
    "    class_mode=\"binary\",\n",
    "    shuffle=False\n",
    ")\n",
    "\n",
    "print(\"Data uploaded successfully with Augmentation for training\")"
   ]
  },
  {
   "cell_type": "code",
   "execution_count": 6,
   "metadata": {
    "execution": {
     "iopub.execute_input": "2025-03-30T19:06:15.731003Z",
     "iopub.status.busy": "2025-03-30T19:06:15.730343Z",
     "iopub.status.idle": "2025-03-30T19:06:20.718973Z",
     "shell.execute_reply": "2025-03-30T19:06:20.718286Z",
     "shell.execute_reply.started": "2025-03-30T19:06:15.730978Z"
    },
    "trusted": true
   },
   "outputs": [
    {
     "name": "stderr",
     "output_type": "stream",
     "text": [
      "<ipython-input-6-038fe0dd4ba2>:5: UserWarning: `input_shape` is undefined or non-square, or `rows` is not in [96, 128, 160, 192, 224]. Weights for input shape (224, 224) will be loaded as the default.\n",
      "  base_model = keras.applications.MobileNetV2(\n"
     ]
    },
    {
     "name": "stdout",
     "output_type": "stream",
     "text": [
      "Downloading data from https://storage.googleapis.com/tensorflow/keras-applications/mobilenet_v2/mobilenet_v2_weights_tf_dim_ordering_tf_kernels_1.0_224_no_top.h5\n",
      "\u001b[1m9406464/9406464\u001b[0m \u001b[32m━━━━━━━━━━━━━━━━━━━━\u001b[0m\u001b[37m\u001b[0m \u001b[1m2s\u001b[0m 0us/step\n"
     ]
    },
    {
     "data": {
      "text/html": [
       "<pre style=\"white-space:pre;overflow-x:auto;line-height:normal;font-family:Menlo,'DejaVu Sans Mono',consolas,'Courier New',monospace\"><span style=\"font-weight: bold\">Model: \"sequential\"</span>\n",
       "</pre>\n"
      ],
      "text/plain": [
       "\u001b[1mModel: \"sequential\"\u001b[0m\n"
      ]
     },
     "metadata": {},
     "output_type": "display_data"
    },
    {
     "data": {
      "text/html": [
       "<pre style=\"white-space:pre;overflow-x:auto;line-height:normal;font-family:Menlo,'DejaVu Sans Mono',consolas,'Courier New',monospace\">┏━━━━━━━━━━━━━━━━━━━━━━━━━━━━━━━━━━━━━━┳━━━━━━━━━━━━━━━━━━━━━━━━━━━━━┳━━━━━━━━━━━━━━━━━┓\n",
       "┃<span style=\"font-weight: bold\"> Layer (type)                         </span>┃<span style=\"font-weight: bold\"> Output Shape                </span>┃<span style=\"font-weight: bold\">         Param # </span>┃\n",
       "┡━━━━━━━━━━━━━━━━━━━━━━━━━━━━━━━━━━━━━━╇━━━━━━━━━━━━━━━━━━━━━━━━━━━━━╇━━━━━━━━━━━━━━━━━┩\n",
       "│ mobilenetv2_1.00_224 (<span style=\"color: #0087ff; text-decoration-color: #0087ff\">Functional</span>)    │ (<span style=\"color: #00d7ff; text-decoration-color: #00d7ff\">None</span>, <span style=\"color: #00af00; text-decoration-color: #00af00\">20</span>, <span style=\"color: #00af00; text-decoration-color: #00af00\">13</span>, <span style=\"color: #00af00; text-decoration-color: #00af00\">1280</span>)        │       <span style=\"color: #00af00; text-decoration-color: #00af00\">2,257,984</span> │\n",
       "├──────────────────────────────────────┼─────────────────────────────┼─────────────────┤\n",
       "│ global_average_pooling2d             │ (<span style=\"color: #00d7ff; text-decoration-color: #00d7ff\">None</span>, <span style=\"color: #00af00; text-decoration-color: #00af00\">1280</span>)                │               <span style=\"color: #00af00; text-decoration-color: #00af00\">0</span> │\n",
       "│ (<span style=\"color: #0087ff; text-decoration-color: #0087ff\">GlobalAveragePooling2D</span>)             │                             │                 │\n",
       "├──────────────────────────────────────┼─────────────────────────────┼─────────────────┤\n",
       "│ dense (<span style=\"color: #0087ff; text-decoration-color: #0087ff\">Dense</span>)                        │ (<span style=\"color: #00d7ff; text-decoration-color: #00d7ff\">None</span>, <span style=\"color: #00af00; text-decoration-color: #00af00\">512</span>)                 │         <span style=\"color: #00af00; text-decoration-color: #00af00\">655,872</span> │\n",
       "├──────────────────────────────────────┼─────────────────────────────┼─────────────────┤\n",
       "│ dropout (<span style=\"color: #0087ff; text-decoration-color: #0087ff\">Dropout</span>)                    │ (<span style=\"color: #00d7ff; text-decoration-color: #00d7ff\">None</span>, <span style=\"color: #00af00; text-decoration-color: #00af00\">512</span>)                 │               <span style=\"color: #00af00; text-decoration-color: #00af00\">0</span> │\n",
       "├──────────────────────────────────────┼─────────────────────────────┼─────────────────┤\n",
       "│ dense_1 (<span style=\"color: #0087ff; text-decoration-color: #0087ff\">Dense</span>)                      │ (<span style=\"color: #00d7ff; text-decoration-color: #00d7ff\">None</span>, <span style=\"color: #00af00; text-decoration-color: #00af00\">512</span>)                 │         <span style=\"color: #00af00; text-decoration-color: #00af00\">262,656</span> │\n",
       "├──────────────────────────────────────┼─────────────────────────────┼─────────────────┤\n",
       "│ dropout_1 (<span style=\"color: #0087ff; text-decoration-color: #0087ff\">Dropout</span>)                  │ (<span style=\"color: #00d7ff; text-decoration-color: #00d7ff\">None</span>, <span style=\"color: #00af00; text-decoration-color: #00af00\">512</span>)                 │               <span style=\"color: #00af00; text-decoration-color: #00af00\">0</span> │\n",
       "├──────────────────────────────────────┼─────────────────────────────┼─────────────────┤\n",
       "│ dense_2 (<span style=\"color: #0087ff; text-decoration-color: #0087ff\">Dense</span>)                      │ (<span style=\"color: #00d7ff; text-decoration-color: #00d7ff\">None</span>, <span style=\"color: #00af00; text-decoration-color: #00af00\">1</span>)                   │             <span style=\"color: #00af00; text-decoration-color: #00af00\">513</span> │\n",
       "└──────────────────────────────────────┴─────────────────────────────┴─────────────────┘\n",
       "</pre>\n"
      ],
      "text/plain": [
       "┏━━━━━━━━━━━━━━━━━━━━━━━━━━━━━━━━━━━━━━┳━━━━━━━━━━━━━━━━━━━━━━━━━━━━━┳━━━━━━━━━━━━━━━━━┓\n",
       "┃\u001b[1m \u001b[0m\u001b[1mLayer (type)                        \u001b[0m\u001b[1m \u001b[0m┃\u001b[1m \u001b[0m\u001b[1mOutput Shape               \u001b[0m\u001b[1m \u001b[0m┃\u001b[1m \u001b[0m\u001b[1m        Param #\u001b[0m\u001b[1m \u001b[0m┃\n",
       "┡━━━━━━━━━━━━━━━━━━━━━━━━━━━━━━━━━━━━━━╇━━━━━━━━━━━━━━━━━━━━━━━━━━━━━╇━━━━━━━━━━━━━━━━━┩\n",
       "│ mobilenetv2_1.00_224 (\u001b[38;5;33mFunctional\u001b[0m)    │ (\u001b[38;5;45mNone\u001b[0m, \u001b[38;5;34m20\u001b[0m, \u001b[38;5;34m13\u001b[0m, \u001b[38;5;34m1280\u001b[0m)        │       \u001b[38;5;34m2,257,984\u001b[0m │\n",
       "├──────────────────────────────────────┼─────────────────────────────┼─────────────────┤\n",
       "│ global_average_pooling2d             │ (\u001b[38;5;45mNone\u001b[0m, \u001b[38;5;34m1280\u001b[0m)                │               \u001b[38;5;34m0\u001b[0m │\n",
       "│ (\u001b[38;5;33mGlobalAveragePooling2D\u001b[0m)             │                             │                 │\n",
       "├──────────────────────────────────────┼─────────────────────────────┼─────────────────┤\n",
       "│ dense (\u001b[38;5;33mDense\u001b[0m)                        │ (\u001b[38;5;45mNone\u001b[0m, \u001b[38;5;34m512\u001b[0m)                 │         \u001b[38;5;34m655,872\u001b[0m │\n",
       "├──────────────────────────────────────┼─────────────────────────────┼─────────────────┤\n",
       "│ dropout (\u001b[38;5;33mDropout\u001b[0m)                    │ (\u001b[38;5;45mNone\u001b[0m, \u001b[38;5;34m512\u001b[0m)                 │               \u001b[38;5;34m0\u001b[0m │\n",
       "├──────────────────────────────────────┼─────────────────────────────┼─────────────────┤\n",
       "│ dense_1 (\u001b[38;5;33mDense\u001b[0m)                      │ (\u001b[38;5;45mNone\u001b[0m, \u001b[38;5;34m512\u001b[0m)                 │         \u001b[38;5;34m262,656\u001b[0m │\n",
       "├──────────────────────────────────────┼─────────────────────────────┼─────────────────┤\n",
       "│ dropout_1 (\u001b[38;5;33mDropout\u001b[0m)                  │ (\u001b[38;5;45mNone\u001b[0m, \u001b[38;5;34m512\u001b[0m)                 │               \u001b[38;5;34m0\u001b[0m │\n",
       "├──────────────────────────────────────┼─────────────────────────────┼─────────────────┤\n",
       "│ dense_2 (\u001b[38;5;33mDense\u001b[0m)                      │ (\u001b[38;5;45mNone\u001b[0m, \u001b[38;5;34m1\u001b[0m)                   │             \u001b[38;5;34m513\u001b[0m │\n",
       "└──────────────────────────────────────┴─────────────────────────────┴─────────────────┘\n"
      ]
     },
     "metadata": {},
     "output_type": "display_data"
    },
    {
     "data": {
      "text/html": [
       "<pre style=\"white-space:pre;overflow-x:auto;line-height:normal;font-family:Menlo,'DejaVu Sans Mono',consolas,'Courier New',monospace\"><span style=\"font-weight: bold\"> Total params: </span><span style=\"color: #00af00; text-decoration-color: #00af00\">3,177,025</span> (12.12 MB)\n",
       "</pre>\n"
      ],
      "text/plain": [
       "\u001b[1m Total params: \u001b[0m\u001b[38;5;34m3,177,025\u001b[0m (12.12 MB)\n"
      ]
     },
     "metadata": {},
     "output_type": "display_data"
    },
    {
     "data": {
      "text/html": [
       "<pre style=\"white-space:pre;overflow-x:auto;line-height:normal;font-family:Menlo,'DejaVu Sans Mono',consolas,'Courier New',monospace\"><span style=\"font-weight: bold\"> Trainable params: </span><span style=\"color: #00af00; text-decoration-color: #00af00\">919,041</span> (3.51 MB)\n",
       "</pre>\n"
      ],
      "text/plain": [
       "\u001b[1m Trainable params: \u001b[0m\u001b[38;5;34m919,041\u001b[0m (3.51 MB)\n"
      ]
     },
     "metadata": {},
     "output_type": "display_data"
    },
    {
     "data": {
      "text/html": [
       "<pre style=\"white-space:pre;overflow-x:auto;line-height:normal;font-family:Menlo,'DejaVu Sans Mono',consolas,'Courier New',monospace\"><span style=\"font-weight: bold\"> Non-trainable params: </span><span style=\"color: #00af00; text-decoration-color: #00af00\">2,257,984</span> (8.61 MB)\n",
       "</pre>\n"
      ],
      "text/plain": [
       "\u001b[1m Non-trainable params: \u001b[0m\u001b[38;5;34m2,257,984\u001b[0m (8.61 MB)\n"
      ]
     },
     "metadata": {},
     "output_type": "display_data"
    }
   ],
   "source": [
    "import tensorflow as tf\n",
    "from tensorflow import keras\n",
    "\n",
    "# تحميل النموذج الأساسي بدون الطبقات العلوية\n",
    "base_model = keras.applications.MobileNetV2(\n",
    "    input_shape=(612, 408, 3),\n",
    "    include_top=False,  # إزالة الطبقات الأصلية الخاصة بـ 1000 تصنيف\n",
    "    weights=\"imagenet\"\n",
    ")\n",
    "\n",
    "# تجميد أوزان الطبقات الأساسية لمنع تعديلها أثناء التدريب الأولي\n",
    "base_model.trainable = False\n",
    "\n",
    "# بناء الطبقات الجديدة الخاصة بمهمة التصنيف\n",
    "model = keras.models.Sequential([\n",
    "    base_model,\n",
    "    keras.layers.GlobalAveragePooling2D(),  # تقليل الأبعاد\n",
    "    keras.layers.Dense(512, activation='relu'),\n",
    "    keras.layers.Dropout(0.5),\n",
    "    keras.layers.Dense(512, activation='relu'),\n",
    "    keras.layers.Dropout(0.5),\n",
    "    keras.layers.Dense(1, activation='sigmoid')  # تصنيف ثنائي (fall / not fall)\n",
    "])\n",
    "\n",
    "# تجميع النموذج\n",
    "model.compile(\n",
    "    loss='binary_crossentropy',\n",
    "    optimizer=keras.optimizers.Adam(learning_rate=0.0001),\n",
    "    metrics=['accuracy']\n",
    ")\n",
    "\n",
    "model.summary()"
   ]
  },
  {
   "cell_type": "code",
   "execution_count": 7,
   "metadata": {
    "execution": {
     "iopub.execute_input": "2025-03-30T19:06:20.719914Z",
     "iopub.status.busy": "2025-03-30T19:06:20.719645Z",
     "iopub.status.idle": "2025-03-30T19:22:36.269939Z",
     "shell.execute_reply": "2025-03-30T19:22:36.269059Z",
     "shell.execute_reply.started": "2025-03-30T19:06:20.719892Z"
    },
    "trusted": true
   },
   "outputs": [
    {
     "name": "stdout",
     "output_type": "stream",
     "text": [
      "Epoch 1/40\n"
     ]
    },
    {
     "name": "stderr",
     "output_type": "stream",
     "text": [
      "/usr/local/lib/python3.10/dist-packages/keras/src/trainers/data_adapters/py_dataset_adapter.py:122: UserWarning: Your `PyDataset` class should call `super().__init__(**kwargs)` in its constructor. `**kwargs` can include `workers`, `use_multiprocessing`, `max_queue_size`. Do not pass these arguments to `fit()`, as they will be ignored.\n",
      "  self._warn_if_super_not_called()\n"
     ]
    },
    {
     "name": "stdout",
     "output_type": "stream",
     "text": [
      "\u001b[1m57/57\u001b[0m \u001b[32m━━━━━━━━━━━━━━━━━━━━\u001b[0m\u001b[37m\u001b[0m \u001b[1m47s\u001b[0m 561ms/step - accuracy: 0.6794 - loss: 0.6075 - val_accuracy: 0.8734 - val_loss: 0.3505\n",
      "Epoch 2/40\n",
      "\u001b[1m57/57\u001b[0m \u001b[32m━━━━━━━━━━━━━━━━━━━━\u001b[0m\u001b[37m\u001b[0m \u001b[1m25s\u001b[0m 394ms/step - accuracy: 0.8701 - loss: 0.3379 - val_accuracy: 0.8915 - val_loss: 0.2463\n",
      "Epoch 3/40\n",
      "\u001b[1m57/57\u001b[0m \u001b[32m━━━━━━━━━━━━━━━━━━━━\u001b[0m\u001b[37m\u001b[0m \u001b[1m24s\u001b[0m 386ms/step - accuracy: 0.9142 - loss: 0.2233 - val_accuracy: 0.9096 - val_loss: 0.2080\n",
      "Epoch 4/40\n",
      "\u001b[1m57/57\u001b[0m \u001b[32m━━━━━━━━━━━━━━━━━━━━\u001b[0m\u001b[37m\u001b[0m \u001b[1m24s\u001b[0m 380ms/step - accuracy: 0.9172 - loss: 0.2021 - val_accuracy: 0.9121 - val_loss: 0.1915\n",
      "Epoch 5/40\n",
      "\u001b[1m57/57\u001b[0m \u001b[32m━━━━━━━━━━━━━━━━━━━━\u001b[0m\u001b[37m\u001b[0m \u001b[1m24s\u001b[0m 380ms/step - accuracy: 0.9357 - loss: 0.1764 - val_accuracy: 0.9251 - val_loss: 0.1796\n",
      "Epoch 6/40\n",
      "\u001b[1m57/57\u001b[0m \u001b[32m━━━━━━━━━━━━━━━━━━━━\u001b[0m\u001b[37m\u001b[0m \u001b[1m26s\u001b[0m 406ms/step - accuracy: 0.9427 - loss: 0.1372 - val_accuracy: 0.9225 - val_loss: 0.1707\n",
      "Epoch 7/40\n",
      "\u001b[1m57/57\u001b[0m \u001b[32m━━━━━━━━━━━━━━━━━━━━\u001b[0m\u001b[37m\u001b[0m \u001b[1m24s\u001b[0m 380ms/step - accuracy: 0.9530 - loss: 0.1260 - val_accuracy: 0.9251 - val_loss: 0.1732\n",
      "Epoch 8/40\n",
      "\u001b[1m57/57\u001b[0m \u001b[32m━━━━━━━━━━━━━━━━━━━━\u001b[0m\u001b[37m\u001b[0m \u001b[1m23s\u001b[0m 373ms/step - accuracy: 0.9470 - loss: 0.1290 - val_accuracy: 0.9225 - val_loss: 0.1611\n",
      "Epoch 9/40\n",
      "\u001b[1m57/57\u001b[0m \u001b[32m━━━━━━━━━━━━━━━━━━━━\u001b[0m\u001b[37m\u001b[0m \u001b[1m23s\u001b[0m 369ms/step - accuracy: 0.9538 - loss: 0.1151 - val_accuracy: 0.9225 - val_loss: 0.1587\n",
      "Epoch 10/40\n",
      "\u001b[1m57/57\u001b[0m \u001b[32m━━━━━━━━━━━━━━━━━━━━\u001b[0m\u001b[37m\u001b[0m \u001b[1m23s\u001b[0m 370ms/step - accuracy: 0.9638 - loss: 0.1029 - val_accuracy: 0.9302 - val_loss: 0.1542\n",
      "Epoch 11/40\n",
      "\u001b[1m57/57\u001b[0m \u001b[32m━━━━━━━━━━━━━━━━━━━━\u001b[0m\u001b[37m\u001b[0m \u001b[1m24s\u001b[0m 379ms/step - accuracy: 0.9648 - loss: 0.1086 - val_accuracy: 0.9354 - val_loss: 0.1494\n",
      "Epoch 12/40\n",
      "\u001b[1m57/57\u001b[0m \u001b[32m━━━━━━━━━━━━━━━━━━━━\u001b[0m\u001b[37m\u001b[0m \u001b[1m24s\u001b[0m 372ms/step - accuracy: 0.9734 - loss: 0.0750 - val_accuracy: 0.9380 - val_loss: 0.1531\n",
      "Epoch 13/40\n",
      "\u001b[1m57/57\u001b[0m \u001b[32m━━━━━━━━━━━━━━━━━━━━\u001b[0m\u001b[37m\u001b[0m \u001b[1m24s\u001b[0m 375ms/step - accuracy: 0.9762 - loss: 0.0691 - val_accuracy: 0.9302 - val_loss: 0.1678\n",
      "Epoch 14/40\n",
      "\u001b[1m57/57\u001b[0m \u001b[32m━━━━━━━━━━━━━━━━━━━━\u001b[0m\u001b[37m\u001b[0m \u001b[1m23s\u001b[0m 372ms/step - accuracy: 0.9732 - loss: 0.0653 - val_accuracy: 0.9354 - val_loss: 0.1455\n",
      "Epoch 15/40\n",
      "\u001b[1m57/57\u001b[0m \u001b[32m━━━━━━━━━━━━━━━━━━━━\u001b[0m\u001b[37m\u001b[0m \u001b[1m23s\u001b[0m 371ms/step - accuracy: 0.9779 - loss: 0.0574 - val_accuracy: 0.9328 - val_loss: 0.1467\n",
      "Epoch 16/40\n",
      "\u001b[1m57/57\u001b[0m \u001b[32m━━━━━━━━━━━━━━━━━━━━\u001b[0m\u001b[37m\u001b[0m \u001b[1m24s\u001b[0m 372ms/step - accuracy: 0.9806 - loss: 0.0561 - val_accuracy: 0.9457 - val_loss: 0.1416\n",
      "Epoch 17/40\n",
      "\u001b[1m57/57\u001b[0m \u001b[32m━━━━━━━━━━━━━━━━━━━━\u001b[0m\u001b[37m\u001b[0m \u001b[1m24s\u001b[0m 374ms/step - accuracy: 0.9835 - loss: 0.0490 - val_accuracy: 0.9457 - val_loss: 0.1464\n",
      "Epoch 18/40\n",
      "\u001b[1m57/57\u001b[0m \u001b[32m━━━━━━━━━━━━━━━━━━━━\u001b[0m\u001b[37m\u001b[0m \u001b[1m23s\u001b[0m 369ms/step - accuracy: 0.9866 - loss: 0.0414 - val_accuracy: 0.9457 - val_loss: 0.1537\n",
      "Epoch 19/40\n",
      "\u001b[1m57/57\u001b[0m \u001b[32m━━━━━━━━━━━━━━━━━━━━\u001b[0m\u001b[37m\u001b[0m \u001b[1m23s\u001b[0m 366ms/step - accuracy: 0.9871 - loss: 0.0423 - val_accuracy: 0.9457 - val_loss: 0.1453\n",
      "Epoch 20/40\n",
      "\u001b[1m57/57\u001b[0m \u001b[32m━━━━━━━━━━━━━━━━━━━━\u001b[0m\u001b[37m\u001b[0m \u001b[1m23s\u001b[0m 363ms/step - accuracy: 0.9896 - loss: 0.0405 - val_accuracy: 0.9380 - val_loss: 0.1748\n",
      "Epoch 21/40\n",
      "\u001b[1m57/57\u001b[0m \u001b[32m━━━━━━━━━━━━━━━━━━━━\u001b[0m\u001b[37m\u001b[0m \u001b[1m23s\u001b[0m 370ms/step - accuracy: 0.9898 - loss: 0.0323 - val_accuracy: 0.9457 - val_loss: 0.1455\n",
      "Epoch 22/40\n",
      "\u001b[1m57/57\u001b[0m \u001b[32m━━━━━━━━━━━━━━━━━━━━\u001b[0m\u001b[37m\u001b[0m \u001b[1m23s\u001b[0m 361ms/step - accuracy: 0.9927 - loss: 0.0276 - val_accuracy: 0.9509 - val_loss: 0.1460\n",
      "Epoch 23/40\n",
      "\u001b[1m57/57\u001b[0m \u001b[32m━━━━━━━━━━━━━━━━━━━━\u001b[0m\u001b[37m\u001b[0m \u001b[1m23s\u001b[0m 363ms/step - accuracy: 0.9947 - loss: 0.0242 - val_accuracy: 0.9483 - val_loss: 0.1464\n",
      "Epoch 24/40\n",
      "\u001b[1m57/57\u001b[0m \u001b[32m━━━━━━━━━━━━━━━━━━━━\u001b[0m\u001b[37m\u001b[0m \u001b[1m23s\u001b[0m 361ms/step - accuracy: 0.9949 - loss: 0.0220 - val_accuracy: 0.9535 - val_loss: 0.1551\n",
      "Epoch 25/40\n",
      "\u001b[1m57/57\u001b[0m \u001b[32m━━━━━━━━━━━━━━━━━━━━\u001b[0m\u001b[37m\u001b[0m \u001b[1m23s\u001b[0m 362ms/step - accuracy: 0.9982 - loss: 0.0223 - val_accuracy: 0.9406 - val_loss: 0.1530\n",
      "Epoch 26/40\n",
      "\u001b[1m57/57\u001b[0m \u001b[32m━━━━━━━━━━━━━━━━━━━━\u001b[0m\u001b[37m\u001b[0m \u001b[1m23s\u001b[0m 360ms/step - accuracy: 0.9981 - loss: 0.0172 - val_accuracy: 0.9509 - val_loss: 0.1738\n",
      "Epoch 27/40\n",
      "\u001b[1m57/57\u001b[0m \u001b[32m━━━━━━━━━━━━━━━━━━━━\u001b[0m\u001b[37m\u001b[0m \u001b[1m23s\u001b[0m 360ms/step - accuracy: 0.9988 - loss: 0.0121 - val_accuracy: 0.9406 - val_loss: 0.1610\n",
      "Epoch 28/40\n",
      "\u001b[1m57/57\u001b[0m \u001b[32m━━━━━━━━━━━━━━━━━━━━\u001b[0m\u001b[37m\u001b[0m \u001b[1m23s\u001b[0m 369ms/step - accuracy: 0.9995 - loss: 0.0092 - val_accuracy: 0.9432 - val_loss: 0.1616\n",
      "Epoch 29/40\n",
      "\u001b[1m57/57\u001b[0m \u001b[32m━━━━━━━━━━━━━━━━━━━━\u001b[0m\u001b[37m\u001b[0m \u001b[1m23s\u001b[0m 364ms/step - accuracy: 0.9958 - loss: 0.0169 - val_accuracy: 0.9406 - val_loss: 0.1626\n",
      "Epoch 30/40\n",
      "\u001b[1m57/57\u001b[0m \u001b[32m━━━━━━━━━━━━━━━━━━━━\u001b[0m\u001b[37m\u001b[0m \u001b[1m23s\u001b[0m 360ms/step - accuracy: 0.9987 - loss: 0.0098 - val_accuracy: 0.9406 - val_loss: 0.1629\n",
      "Epoch 31/40\n",
      "\u001b[1m57/57\u001b[0m \u001b[32m━━━━━━━━━━━━━━━━━━━━\u001b[0m\u001b[37m\u001b[0m \u001b[1m23s\u001b[0m 362ms/step - accuracy: 0.9988 - loss: 0.0099 - val_accuracy: 0.9483 - val_loss: 0.1735\n",
      "Epoch 32/40\n",
      "\u001b[1m57/57\u001b[0m \u001b[32m━━━━━━━━━━━━━━━━━━━━\u001b[0m\u001b[37m\u001b[0m \u001b[1m23s\u001b[0m 362ms/step - accuracy: 0.9993 - loss: 0.0089 - val_accuracy: 0.9457 - val_loss: 0.1694\n",
      "Epoch 33/40\n",
      "\u001b[1m57/57\u001b[0m \u001b[32m━━━━━━━━━━━━━━━━━━━━\u001b[0m\u001b[37m\u001b[0m \u001b[1m23s\u001b[0m 364ms/step - accuracy: 0.9977 - loss: 0.0110 - val_accuracy: 0.9535 - val_loss: 0.1695\n",
      "Epoch 34/40\n",
      "\u001b[1m57/57\u001b[0m \u001b[32m━━━━━━━━━━━━━━━━━━━━\u001b[0m\u001b[37m\u001b[0m \u001b[1m23s\u001b[0m 360ms/step - accuracy: 0.9976 - loss: 0.0123 - val_accuracy: 0.9457 - val_loss: 0.1683\n",
      "Epoch 35/40\n",
      "\u001b[1m57/57\u001b[0m \u001b[32m━━━━━━━━━━━━━━━━━━━━\u001b[0m\u001b[37m\u001b[0m \u001b[1m23s\u001b[0m 362ms/step - accuracy: 0.9979 - loss: 0.0096 - val_accuracy: 0.9432 - val_loss: 0.1691\n",
      "Epoch 36/40\n",
      "\u001b[1m57/57\u001b[0m \u001b[32m━━━━━━━━━━━━━━━━━━━━\u001b[0m\u001b[37m\u001b[0m \u001b[1m23s\u001b[0m 363ms/step - accuracy: 1.0000 - loss: 0.0065 - val_accuracy: 0.9432 - val_loss: 0.1746\n",
      "Epoch 37/40\n",
      "\u001b[1m57/57\u001b[0m \u001b[32m━━━━━━━━━━━━━━━━━━━━\u001b[0m\u001b[37m\u001b[0m \u001b[1m23s\u001b[0m 359ms/step - accuracy: 0.9994 - loss: 0.0066 - val_accuracy: 0.9457 - val_loss: 0.1737\n",
      "Epoch 38/40\n",
      "\u001b[1m57/57\u001b[0m \u001b[32m━━━━━━━━━━━━━━━━━━━━\u001b[0m\u001b[37m\u001b[0m \u001b[1m23s\u001b[0m 371ms/step - accuracy: 1.0000 - loss: 0.0057 - val_accuracy: 0.9457 - val_loss: 0.1773\n",
      "Epoch 39/40\n",
      "\u001b[1m57/57\u001b[0m \u001b[32m━━━━━━━━━━━━━━━━━━━━\u001b[0m\u001b[37m\u001b[0m \u001b[1m41s\u001b[0m 370ms/step - accuracy: 0.9983 - loss: 0.0075 - val_accuracy: 0.9457 - val_loss: 0.1724\n",
      "Epoch 40/40\n",
      "\u001b[1m57/57\u001b[0m \u001b[32m━━━━━━━━━━━━━━━━━━━━\u001b[0m\u001b[37m\u001b[0m \u001b[1m24s\u001b[0m 374ms/step - accuracy: 1.0000 - loss: 0.0047 - val_accuracy: 0.9432 - val_loss: 0.1872\n"
     ]
    }
   ],
   "source": [
    "history = model.fit(train_generator, epochs=40, validation_data=val_generator, verbose=1)"
   ]
  },
  {
   "cell_type": "code",
   "execution_count": 8,
   "metadata": {
    "execution": {
     "iopub.execute_input": "2025-03-30T19:22:36.272736Z",
     "iopub.status.busy": "2025-03-30T19:22:36.272453Z",
     "iopub.status.idle": "2025-03-30T19:22:36.626935Z",
     "shell.execute_reply": "2025-03-30T19:22:36.626181Z",
     "shell.execute_reply.started": "2025-03-30T19:22:36.272677Z"
    },
    "trusted": true
   },
   "outputs": [
    {
     "data": {
      "image/png": "[encoded data removed]",
      "text/plain": [
       "<Figure size 640x480 with 1 Axes>"
      ]
     },
     "metadata": {},
     "output_type": "display_data"
    },
    {
     "data": {
      "image/png": "[encoded data removed]",
      "text/plain": [
       "<Figure size 640x480 with 1 Axes>"
      ]
     },
     "metadata": {},
     "output_type": "display_data"
    }
   ],
   "source": [
    "import matplotlib.pyplot as plt\n",
    "\n",
    "# رسم الدقة والخسارة\n",
    "plt.plot(history.history['accuracy'], label='Accuracy')\n",
    "plt.plot(history.history['val_accuracy'], label='Validation Accuracy')\n",
    "plt.xlabel('Epochs')\n",
    "plt.ylabel('Accuracy')\n",
    "plt.legend()\n",
    "plt.show()\n",
    "\n",
    "plt.plot(history.history['loss'], label='Loss')\n",
    "plt.plot(history.history['val_loss'], label='Validation Loss')\n",
    "plt.xlabel('Epochs')\n",
    "plt.ylabel('Loss')\n",
    "plt.legend()\n",
    "plt.show()"
   ]
  },
  {
   "cell_type": "code",
   "execution_count": 9,
   "metadata": {
    "execution": {
     "iopub.execute_input": "2025-03-30T19:22:36.628216Z",
     "iopub.status.busy": "2025-03-30T19:22:36.628012Z",
     "iopub.status.idle": "2025-03-30T19:22:36.633617Z",
     "shell.execute_reply": "2025-03-30T19:22:36.632817Z",
     "shell.execute_reply.started": "2025-03-30T19:22:36.628197Z"
    },
    "trusted": true
   },
   "outputs": [
    {
     "name": "stdout",
     "output_type": "stream",
     "text": [
      "Final Training Accuracy: 100.00%\n",
      "Final Validation Accuracy: 94.32%\n"
     ]
    }
   ],
   "source": [
    "train_acc = history.history['accuracy'][-1] * 100\n",
    "val_acc = history.history['val_accuracy'][-1] * 100\n",
    "\n",
    "print(f\"Final Training Accuracy: {train_acc:.2f}%\")\n",
    "print(f\"Final Validation Accuracy: {val_acc:.2f}%\")"
   ]
  },
  {
   "cell_type": "code",
   "execution_count": 10,
   "metadata": {
    "execution": {
     "iopub.execute_input": "2025-03-30T19:22:36.634880Z",
     "iopub.status.busy": "2025-03-30T19:22:36.634528Z",
     "iopub.status.idle": "2025-03-30T19:22:43.692447Z",
     "shell.execute_reply": "2025-03-30T19:22:43.691592Z",
     "shell.execute_reply.started": "2025-03-30T19:22:36.634845Z"
    },
    "trusted": true
   },
   "outputs": [
    {
     "name": "stdout",
     "output_type": "stream",
     "text": [
      "\u001b[1m13/13\u001b[0m \u001b[32m━━━━━━━━━━━━━━━━━━━━\u001b[0m\u001b[37m\u001b[0m \u001b[1m7s\u001b[0m 509ms/step - accuracy: 0.9702 - loss: 0.0969\n",
      "Test Accuracy: 97.17%\n"
     ]
    }
   ],
   "source": [
    "loss, accuracy = model.evaluate(test_generator, verbose=1)\n",
    "print(f\"Test Accuracy: {accuracy * 100:.2f}%\")"
   ]
  },
  {
   "cell_type": "code",
   "execution_count": 11,
   "metadata": {
    "execution": {
     "iopub.execute_input": "2025-03-30T19:22:43.693763Z",
     "iopub.status.busy": "2025-03-30T19:22:43.693420Z",
     "iopub.status.idle": "2025-03-30T19:22:53.719914Z",
     "shell.execute_reply": "2025-03-30T19:22:53.719043Z",
     "shell.execute_reply.started": "2025-03-30T19:22:43.693728Z"
    },
    "trusted": true
   },
   "outputs": [
    {
     "name": "stdout",
     "output_type": "stream",
     "text": [
      "\u001b[1m13/13\u001b[0m \u001b[32m━━━━━━━━━━━━━━━━━━━━\u001b[0m\u001b[37m\u001b[0m \u001b[1m9s\u001b[0m 485ms/step\n"
     ]
    },
    {
     "data": {
      "text/plain": [
       "<sklearn.metrics._plot.confusion_matrix.ConfusionMatrixDisplay at 0x78d9042f6a40>"
      ]
     },
     "execution_count": 11,
     "metadata": {},
     "output_type": "execute_result"
    },
    {
     "data": {
      "image/png": "[encoded data removed]",
      "text/plain": [
       "<Figure size 640x480 with 2 Axes>"
      ]
     },
     "metadata": {},
     "output_type": "display_data"
    }
   ],
   "source": [
    "from sklearn.metrics import confusion_matrix, ConfusionMatrixDisplay\n",
    "\n",
    "pred = model.predict(test_generator)\n",
    "y_pred = (pred > 0.5).astype(\"int32\") \n",
    "y_true = test_generator.classes\n",
    "\n",
    "cm = confusion_matrix(y_true, y_pred)\n",
    "disp = ConfusionMatrixDisplay(confusion_matrix=cm, display_labels=[\"FALL\", \"NOT FALL\"])\n",
    "disp.plot()"
   ]
  },
  {
   "cell_type": "code",
   "execution_count": 12,
   "metadata": {
    "execution": {
     "iopub.execute_input": "2025-03-30T19:22:53.721438Z",
     "iopub.status.busy": "2025-03-30T19:22:53.720835Z",
     "iopub.status.idle": "2025-03-30T19:22:53.734951Z",
     "shell.execute_reply": "2025-03-30T19:22:53.734212Z",
     "shell.execute_reply.started": "2025-03-30T19:22:53.721404Z"
    },
    "trusted": true
   },
   "outputs": [
    {
     "name": "stdout",
     "output_type": "stream",
     "text": [
      "              precision    recall  f1-score   support\n",
      "\n",
      "        FALL       0.95      0.97      0.96       129\n",
      "    NOT FALL       0.98      0.97      0.98       260\n",
      "\n",
      "    accuracy                           0.97       389\n",
      "   macro avg       0.97      0.97      0.97       389\n",
      "weighted avg       0.97      0.97      0.97       389\n",
      "\n",
      "Accuracy of the Model: 97.2%\n"
     ]
    }
   ],
   "source": [
    "from sklearn.metrics import classification_report\n",
    "from sklearn.metrics import accuracy_score\n",
    "\n",
    "print(classification_report(y_true, y_pred, target_names=[\"FALL\", \"NOT FALL\"]))\n",
    "print(\"Accuracy of the Model:\",\"{:.1f}%\".format(accuracy_score(y_true, y_pred)*100))"
   ]
  },
  {
   "cell_type": "code",
   "execution_count": 15,
   "metadata": {
    "execution": {
     "iopub.execute_input": "2025-03-30T19:22:58.030968Z",
     "iopub.status.busy": "2025-03-30T19:22:58.030731Z",
     "iopub.status.idle": "2025-03-30T19:22:58.035252Z",
     "shell.execute_reply": "2025-03-30T19:22:58.034526Z",
     "shell.execute_reply.started": "2025-03-30T19:22:58.030941Z"
    },
    "trusted": true
   },
   "outputs": [
    {
     "name": "stdout",
     "output_type": "stream",
     "text": [
      "{'Fall': 0, 'Not Fall': 1}\n"
     ]
    }
   ],
   "source": [
    "print(test_generator.class_indices)"
   ]
  },
  {
   "cell_type": "code",
   "execution_count": 16,
   "metadata": {
    "execution": {
     "iopub.execute_input": "2025-03-30T19:22:58.036180Z",
     "iopub.status.busy": "2025-03-30T19:22:58.035990Z",
     "iopub.status.idle": "2025-03-30T19:23:09.016593Z",
     "shell.execute_reply": "2025-03-30T19:23:09.015773Z",
     "shell.execute_reply.started": "2025-03-30T19:22:58.036163Z"
    },
    "trusted": true
   },
   "outputs": [
    {
     "name": "stdout",
     "output_type": "stream",
     "text": [
      "Saved artifact at '/tmp/tmpxi1kydc2'. The following endpoints are available:\n",
      "\n",
      "* Endpoint 'serve'\n",
      "  args_0 (POSITIONAL_ONLY): TensorSpec(shape=(None, 612, 408, 3), dtype=tf.float32, name='input_layer_1')\n",
      "Output Type:\n",
      "  TensorSpec(shape=(None, 1), dtype=tf.float32, name=None)\n",
      "Captures:\n",
      "  132872694084560: TensorSpec(shape=(), dtype=tf.resource, name=None)\n",
      "  132872694178112: TensorSpec(shape=(), dtype=tf.resource, name=None)\n",
      "  132872694180224: TensorSpec(shape=(), dtype=tf.resource, name=None)\n",
      "  132872694173536: TensorSpec(shape=(), dtype=tf.resource, name=None)\n",
      "  132872694175824: TensorSpec(shape=(), dtype=tf.resource, name=None)\n",
      "  132872694183744: TensorSpec(shape=(), dtype=tf.resource, name=None)\n",
      "  132872694184096: TensorSpec(shape=(), dtype=tf.resource, name=None)\n",
      "  132872694185504: TensorSpec(shape=(), dtype=tf.resource, name=None)\n",
      "  132872694181984: TensorSpec(shape=(), dtype=tf.resource, name=None)\n",
      "  132872694183392: TensorSpec(shape=(), dtype=tf.resource, name=None)\n",
      "  132872694185680: TensorSpec(shape=(), dtype=tf.resource, name=None)\n",
      "  132872694154512: TensorSpec(shape=(), dtype=tf.resource, name=None)\n",
      "  132872694155392: TensorSpec(shape=(), dtype=tf.resource, name=None)\n",
      "  132872694155216: TensorSpec(shape=(), dtype=tf.resource, name=None)\n",
      "  132872694154864: TensorSpec(shape=(), dtype=tf.resource, name=None)\n",
      "  132872694171424: TensorSpec(shape=(), dtype=tf.resource, name=None)\n",
      "  132872694158208: TensorSpec(shape=(), dtype=tf.resource, name=None)\n",
      "  132872694160672: TensorSpec(shape=(), dtype=tf.resource, name=None)\n",
      "  132872694157328: TensorSpec(shape=(), dtype=tf.resource, name=None)\n",
      "  132872694158736: TensorSpec(shape=(), dtype=tf.resource, name=None)\n",
      "  132872694163312: TensorSpec(shape=(), dtype=tf.resource, name=None)\n",
      "  132872694163664: TensorSpec(shape=(), dtype=tf.resource, name=None)\n",
      "  132872694165072: TensorSpec(shape=(), dtype=tf.resource, name=None)\n",
      "  132872694161552: TensorSpec(shape=(), dtype=tf.resource, name=None)\n",
      "  132872694162960: TensorSpec(shape=(), dtype=tf.resource, name=None)\n",
      "  132872694167360: TensorSpec(shape=(), dtype=tf.resource, name=None)\n",
      "  132872694167712: TensorSpec(shape=(), dtype=tf.resource, name=None)\n",
      "  132872694169120: TensorSpec(shape=(), dtype=tf.resource, name=None)\n",
      "  132872694165600: TensorSpec(shape=(), dtype=tf.resource, name=None)\n",
      "  132872694167008: TensorSpec(shape=(), dtype=tf.resource, name=None)\n",
      "  132872694167888: TensorSpec(shape=(), dtype=tf.resource, name=None)\n",
      "  132872694285408: TensorSpec(shape=(), dtype=tf.resource, name=None)\n",
      "  132872694286288: TensorSpec(shape=(), dtype=tf.resource, name=None)\n",
      "  132872694287696: TensorSpec(shape=(), dtype=tf.resource, name=None)\n",
      "  132872694285760: TensorSpec(shape=(), dtype=tf.resource, name=None)\n",
      "  132872694290160: TensorSpec(shape=(), dtype=tf.resource, name=None)\n",
      "  132872694290512: TensorSpec(shape=(), dtype=tf.resource, name=None)\n",
      "  132872694291744: TensorSpec(shape=(), dtype=tf.resource, name=None)\n",
      "  132872694288400: TensorSpec(shape=(), dtype=tf.resource, name=None)\n",
      "  132872694289808: TensorSpec(shape=(), dtype=tf.resource, name=None)\n",
      "  132872694294208: TensorSpec(shape=(), dtype=tf.resource, name=None)\n",
      "  132872694294560: TensorSpec(shape=(), dtype=tf.resource, name=None)\n",
      "  132872694295968: TensorSpec(shape=(), dtype=tf.resource, name=None)\n",
      "  132872694292448: TensorSpec(shape=(), dtype=tf.resource, name=None)\n",
      "  132872694293856: TensorSpec(shape=(), dtype=tf.resource, name=None)\n",
      "  132872694298256: TensorSpec(shape=(), dtype=tf.resource, name=None)\n",
      "  132872694298608: TensorSpec(shape=(), dtype=tf.resource, name=None)\n",
      "  132872694300016: TensorSpec(shape=(), dtype=tf.resource, name=None)\n",
      "  132872694296496: TensorSpec(shape=(), dtype=tf.resource, name=None)\n",
      "  132872694297904: TensorSpec(shape=(), dtype=tf.resource, name=None)\n",
      "  132872694300192: TensorSpec(shape=(), dtype=tf.resource, name=None)\n",
      "  132872692286736: TensorSpec(shape=(), dtype=tf.resource, name=None)\n",
      "  132872692287616: TensorSpec(shape=(), dtype=tf.resource, name=None)\n",
      "  132872692287440: TensorSpec(shape=(), dtype=tf.resource, name=None)\n",
      "  132872692287088: TensorSpec(shape=(), dtype=tf.resource, name=None)\n",
      "  132872692291488: TensorSpec(shape=(), dtype=tf.resource, name=None)\n",
      "  132872692291840: TensorSpec(shape=(), dtype=tf.resource, name=None)\n",
      "  132872692293072: TensorSpec(shape=(), dtype=tf.resource, name=None)\n",
      "  132872692289728: TensorSpec(shape=(), dtype=tf.resource, name=None)\n",
      "  132872692291136: TensorSpec(shape=(), dtype=tf.resource, name=None)\n",
      "  132872692295360: TensorSpec(shape=(), dtype=tf.resource, name=None)\n",
      "  132872692295712: TensorSpec(shape=(), dtype=tf.resource, name=None)\n",
      "  132872692297120: TensorSpec(shape=(), dtype=tf.resource, name=None)\n",
      "  132872692292016: TensorSpec(shape=(), dtype=tf.resource, name=None)\n",
      "  132872692295008: TensorSpec(shape=(), dtype=tf.resource, name=None)\n",
      "  132872692299408: TensorSpec(shape=(), dtype=tf.resource, name=None)\n",
      "  132872692299760: TensorSpec(shape=(), dtype=tf.resource, name=None)\n",
      "  132872692301168: TensorSpec(shape=(), dtype=tf.resource, name=None)\n",
      "  132872692297648: TensorSpec(shape=(), dtype=tf.resource, name=None)\n",
      "  132872692299056: TensorSpec(shape=(), dtype=tf.resource, name=None)\n",
      "  132872692299936: TensorSpec(shape=(), dtype=tf.resource, name=None)\n",
      "  132872692384864: TensorSpec(shape=(), dtype=tf.resource, name=None)\n",
      "  132872692385744: TensorSpec(shape=(), dtype=tf.resource, name=None)\n",
      "  132872692387152: TensorSpec(shape=(), dtype=tf.resource, name=None)\n",
      "  132872692385216: TensorSpec(shape=(), dtype=tf.resource, name=None)\n",
      "  132872692389616: TensorSpec(shape=(), dtype=tf.resource, name=None)\n",
      "  132872692389968: TensorSpec(shape=(), dtype=tf.resource, name=None)\n",
      "  132872692391200: TensorSpec(shape=(), dtype=tf.resource, name=None)\n",
      "  132872692387856: TensorSpec(shape=(), dtype=tf.resource, name=None)\n",
      "  132872692389264: TensorSpec(shape=(), dtype=tf.resource, name=None)\n",
      "  132872692393664: TensorSpec(shape=(), dtype=tf.resource, name=None)\n",
      "  132872692394016: TensorSpec(shape=(), dtype=tf.resource, name=None)\n",
      "  132872692395424: TensorSpec(shape=(), dtype=tf.resource, name=None)\n",
      "  132872692391904: TensorSpec(shape=(), dtype=tf.resource, name=None)\n",
      "  132872692393312: TensorSpec(shape=(), dtype=tf.resource, name=None)\n",
      "  132872692397712: TensorSpec(shape=(), dtype=tf.resource, name=None)\n",
      "  132872692398064: TensorSpec(shape=(), dtype=tf.resource, name=None)\n",
      "  132872692399472: TensorSpec(shape=(), dtype=tf.resource, name=None)\n",
      "  132872692395952: TensorSpec(shape=(), dtype=tf.resource, name=None)\n",
      "  132872692397360: TensorSpec(shape=(), dtype=tf.resource, name=None)\n",
      "  132872692398240: TensorSpec(shape=(), dtype=tf.resource, name=None)\n",
      "  132872692483168: TensorSpec(shape=(), dtype=tf.resource, name=None)\n",
      "  132872692484048: TensorSpec(shape=(), dtype=tf.resource, name=None)\n",
      "  132872692485456: TensorSpec(shape=(), dtype=tf.resource, name=None)\n",
      "  132872692483520: TensorSpec(shape=(), dtype=tf.resource, name=None)\n",
      "  132872692488096: TensorSpec(shape=(), dtype=tf.resource, name=None)\n",
      "  132872692488448: TensorSpec(shape=(), dtype=tf.resource, name=None)\n",
      "  132872692489680: TensorSpec(shape=(), dtype=tf.resource, name=None)\n",
      "  132872692486336: TensorSpec(shape=(), dtype=tf.resource, name=None)\n",
      "  132872692487744: TensorSpec(shape=(), dtype=tf.resource, name=None)\n",
      "  132872692492144: TensorSpec(shape=(), dtype=tf.resource, name=None)\n",
      "  132872692492496: TensorSpec(shape=(), dtype=tf.resource, name=None)\n",
      "  132872692493904: TensorSpec(shape=(), dtype=tf.resource, name=None)\n",
      "  132872692490384: TensorSpec(shape=(), dtype=tf.resource, name=None)\n",
      "  132872692491792: TensorSpec(shape=(), dtype=tf.resource, name=None)\n",
      "  132872692496016: TensorSpec(shape=(), dtype=tf.resource, name=None)\n",
      "  132872692496368: TensorSpec(shape=(), dtype=tf.resource, name=None)\n",
      "  132872692497776: TensorSpec(shape=(), dtype=tf.resource, name=None)\n",
      "  132872692492672: TensorSpec(shape=(), dtype=tf.resource, name=None)\n",
      "  132872692495664: TensorSpec(shape=(), dtype=tf.resource, name=None)\n",
      "  132872692496544: TensorSpec(shape=(), dtype=tf.resource, name=None)\n",
      "  132872692532320: TensorSpec(shape=(), dtype=tf.resource, name=None)\n",
      "  132872692533200: TensorSpec(shape=(), dtype=tf.resource, name=None)\n",
      "  132872692534608: TensorSpec(shape=(), dtype=tf.resource, name=None)\n",
      "  132872692532672: TensorSpec(shape=(), dtype=tf.resource, name=None)\n",
      "  132872692537072: TensorSpec(shape=(), dtype=tf.resource, name=None)\n",
      "  132872692537424: TensorSpec(shape=(), dtype=tf.resource, name=None)\n",
      "  132872692538656: TensorSpec(shape=(), dtype=tf.resource, name=None)\n",
      "  132872692535312: TensorSpec(shape=(), dtype=tf.resource, name=None)\n",
      "  132872692536720: TensorSpec(shape=(), dtype=tf.resource, name=None)\n",
      "  132872692541120: TensorSpec(shape=(), dtype=tf.resource, name=None)\n",
      "  132872692541472: TensorSpec(shape=(), dtype=tf.resource, name=None)\n",
      "  132872692542880: TensorSpec(shape=(), dtype=tf.resource, name=None)\n",
      "  132872692539360: TensorSpec(shape=(), dtype=tf.resource, name=None)\n",
      "  132872692540768: TensorSpec(shape=(), dtype=tf.resource, name=None)\n",
      "  132872692545168: TensorSpec(shape=(), dtype=tf.resource, name=None)\n",
      "  132872692545520: TensorSpec(shape=(), dtype=tf.resource, name=None)\n",
      "  132872692546928: TensorSpec(shape=(), dtype=tf.resource, name=None)\n",
      "  132872692543408: TensorSpec(shape=(), dtype=tf.resource, name=None)\n",
      "  132872692544816: TensorSpec(shape=(), dtype=tf.resource, name=None)\n",
      "  132872692545696: TensorSpec(shape=(), dtype=tf.resource, name=None)\n",
      "  132872692614240: TensorSpec(shape=(), dtype=tf.resource, name=None)\n",
      "  132872692615120: TensorSpec(shape=(), dtype=tf.resource, name=None)\n",
      "  132872692616528: TensorSpec(shape=(), dtype=tf.resource, name=None)\n",
      "  132872692614592: TensorSpec(shape=(), dtype=tf.resource, name=None)\n",
      "  132872692618992: TensorSpec(shape=(), dtype=tf.resource, name=None)\n",
      "  132872692619344: TensorSpec(shape=(), dtype=tf.resource, name=None)\n",
      "  132872692620576: TensorSpec(shape=(), dtype=tf.resource, name=None)\n",
      "  132872692617232: TensorSpec(shape=(), dtype=tf.resource, name=None)\n",
      "  132872692618640: TensorSpec(shape=(), dtype=tf.resource, name=None)\n",
      "  132872692623040: TensorSpec(shape=(), dtype=tf.resource, name=None)\n",
      "  132872692623392: TensorSpec(shape=(), dtype=tf.resource, name=None)\n",
      "  132872692624800: TensorSpec(shape=(), dtype=tf.resource, name=None)\n",
      "  132872692621280: TensorSpec(shape=(), dtype=tf.resource, name=None)\n",
      "  132872692622688: TensorSpec(shape=(), dtype=tf.resource, name=None)\n",
      "  132872692627088: TensorSpec(shape=(), dtype=tf.resource, name=None)\n",
      "  132872692627440: TensorSpec(shape=(), dtype=tf.resource, name=None)\n",
      "  132872692628848: TensorSpec(shape=(), dtype=tf.resource, name=None)\n",
      "  132872692625328: TensorSpec(shape=(), dtype=tf.resource, name=None)\n",
      "  132872692626736: TensorSpec(shape=(), dtype=tf.resource, name=None)\n",
      "  132872692627616: TensorSpec(shape=(), dtype=tf.resource, name=None)\n",
      "  132872692728928: TensorSpec(shape=(), dtype=tf.resource, name=None)\n",
      "  132872692729808: TensorSpec(shape=(), dtype=tf.resource, name=None)\n",
      "  132872692731216: TensorSpec(shape=(), dtype=tf.resource, name=None)\n",
      "  132872692729280: TensorSpec(shape=(), dtype=tf.resource, name=None)\n",
      "  132872692733680: TensorSpec(shape=(), dtype=tf.resource, name=None)\n",
      "  132872692734032: TensorSpec(shape=(), dtype=tf.resource, name=None)\n",
      "  132872692735264: TensorSpec(shape=(), dtype=tf.resource, name=None)\n",
      "  132872692731920: TensorSpec(shape=(), dtype=tf.resource, name=None)\n",
      "  132872692733328: TensorSpec(shape=(), dtype=tf.resource, name=None)\n",
      "  132872692737728: TensorSpec(shape=(), dtype=tf.resource, name=None)\n",
      "  132872692738080: TensorSpec(shape=(), dtype=tf.resource, name=None)\n",
      "  132872692739488: TensorSpec(shape=(), dtype=tf.resource, name=None)\n",
      "  132872692735968: TensorSpec(shape=(), dtype=tf.resource, name=None)\n",
      "  132872692737376: TensorSpec(shape=(), dtype=tf.resource, name=None)\n",
      "  132872692741600: TensorSpec(shape=(), dtype=tf.resource, name=None)\n",
      "  132872692741952: TensorSpec(shape=(), dtype=tf.resource, name=None)\n",
      "  132872692743360: TensorSpec(shape=(), dtype=tf.resource, name=None)\n",
      "  132872692738256: TensorSpec(shape=(), dtype=tf.resource, name=None)\n",
      "  132872692741248: TensorSpec(shape=(), dtype=tf.resource, name=None)\n",
      "  132872692742128: TensorSpec(shape=(), dtype=tf.resource, name=None)\n",
      "  132872692827056: TensorSpec(shape=(), dtype=tf.resource, name=None)\n",
      "  132872692827936: TensorSpec(shape=(), dtype=tf.resource, name=None)\n",
      "  132872692829168: TensorSpec(shape=(), dtype=tf.resource, name=None)\n",
      "  132872692827408: TensorSpec(shape=(), dtype=tf.resource, name=None)\n",
      "  132872692831808: TensorSpec(shape=(), dtype=tf.resource, name=None)\n",
      "  132872692832160: TensorSpec(shape=(), dtype=tf.resource, name=None)\n",
      "  132872692833392: TensorSpec(shape=(), dtype=tf.resource, name=None)\n",
      "  132872692830048: TensorSpec(shape=(), dtype=tf.resource, name=None)\n",
      "  132872692831456: TensorSpec(shape=(), dtype=tf.resource, name=None)\n",
      "  132872692835856: TensorSpec(shape=(), dtype=tf.resource, name=None)\n",
      "  132872692836208: TensorSpec(shape=(), dtype=tf.resource, name=None)\n",
      "  132872692837616: TensorSpec(shape=(), dtype=tf.resource, name=None)\n",
      "  132872692834096: TensorSpec(shape=(), dtype=tf.resource, name=None)\n",
      "  132872692835504: TensorSpec(shape=(), dtype=tf.resource, name=None)\n",
      "  132872692839904: TensorSpec(shape=(), dtype=tf.resource, name=None)\n",
      "  132872692840256: TensorSpec(shape=(), dtype=tf.resource, name=None)\n",
      "  132872692841664: TensorSpec(shape=(), dtype=tf.resource, name=None)\n",
      "  132872692838144: TensorSpec(shape=(), dtype=tf.resource, name=None)\n",
      "  132872692839552: TensorSpec(shape=(), dtype=tf.resource, name=None)\n",
      "  132872692840432: TensorSpec(shape=(), dtype=tf.resource, name=None)\n",
      "  132872692892592: TensorSpec(shape=(), dtype=tf.resource, name=None)\n",
      "  132872692893472: TensorSpec(shape=(), dtype=tf.resource, name=None)\n",
      "  132872692894704: TensorSpec(shape=(), dtype=tf.resource, name=None)\n",
      "  132872692892944: TensorSpec(shape=(), dtype=tf.resource, name=None)\n",
      "  132872692897344: TensorSpec(shape=(), dtype=tf.resource, name=None)\n",
      "  132872692897696: TensorSpec(shape=(), dtype=tf.resource, name=None)\n",
      "  132872692898928: TensorSpec(shape=(), dtype=tf.resource, name=None)\n",
      "  132872692895584: TensorSpec(shape=(), dtype=tf.resource, name=None)\n",
      "  132872692896992: TensorSpec(shape=(), dtype=tf.resource, name=None)\n",
      "  132872692901568: TensorSpec(shape=(), dtype=tf.resource, name=None)\n",
      "  132872692901920: TensorSpec(shape=(), dtype=tf.resource, name=None)\n",
      "  132872692903328: TensorSpec(shape=(), dtype=tf.resource, name=None)\n",
      "  132872692899808: TensorSpec(shape=(), dtype=tf.resource, name=None)\n",
      "  132872692901216: TensorSpec(shape=(), dtype=tf.resource, name=None)\n",
      "  132872692905616: TensorSpec(shape=(), dtype=tf.resource, name=None)\n",
      "  132872692905968: TensorSpec(shape=(), dtype=tf.resource, name=None)\n",
      "  132872692907376: TensorSpec(shape=(), dtype=tf.resource, name=None)\n",
      "  132872692903856: TensorSpec(shape=(), dtype=tf.resource, name=None)\n",
      "  132872692905264: TensorSpec(shape=(), dtype=tf.resource, name=None)\n",
      "  132872692907728: TensorSpec(shape=(), dtype=tf.resource, name=None)\n",
      "  132872692974512: TensorSpec(shape=(), dtype=tf.resource, name=None)\n",
      "  132872692975392: TensorSpec(shape=(), dtype=tf.resource, name=None)\n",
      "  132872692976624: TensorSpec(shape=(), dtype=tf.resource, name=None)\n",
      "  132872692974864: TensorSpec(shape=(), dtype=tf.resource, name=None)\n",
      "  132872692979264: TensorSpec(shape=(), dtype=tf.resource, name=None)\n",
      "  132872692979616: TensorSpec(shape=(), dtype=tf.resource, name=None)\n",
      "  132872692980848: TensorSpec(shape=(), dtype=tf.resource, name=None)\n",
      "  132872692977504: TensorSpec(shape=(), dtype=tf.resource, name=None)\n",
      "  132872692978912: TensorSpec(shape=(), dtype=tf.resource, name=None)\n",
      "  132872692983312: TensorSpec(shape=(), dtype=tf.resource, name=None)\n",
      "  132872692983664: TensorSpec(shape=(), dtype=tf.resource, name=None)\n",
      "  132872692985072: TensorSpec(shape=(), dtype=tf.resource, name=None)\n",
      "  132872692981552: TensorSpec(shape=(), dtype=tf.resource, name=None)\n",
      "  132872692982960: TensorSpec(shape=(), dtype=tf.resource, name=None)\n",
      "  132872692987360: TensorSpec(shape=(), dtype=tf.resource, name=None)\n",
      "  132872692987712: TensorSpec(shape=(), dtype=tf.resource, name=None)\n",
      "  132872692989120: TensorSpec(shape=(), dtype=tf.resource, name=None)\n",
      "  132872692985600: TensorSpec(shape=(), dtype=tf.resource, name=None)\n",
      "  132872692987008: TensorSpec(shape=(), dtype=tf.resource, name=None)\n",
      "  132872692987888: TensorSpec(shape=(), dtype=tf.resource, name=None)\n",
      "  132872693056432: TensorSpec(shape=(), dtype=tf.resource, name=None)\n",
      "  132872693057312: TensorSpec(shape=(), dtype=tf.resource, name=None)\n",
      "  132872693058544: TensorSpec(shape=(), dtype=tf.resource, name=None)\n",
      "  132872693056784: TensorSpec(shape=(), dtype=tf.resource, name=None)\n",
      "  132872693061184: TensorSpec(shape=(), dtype=tf.resource, name=None)\n",
      "  132872693061536: TensorSpec(shape=(), dtype=tf.resource, name=None)\n",
      "  132872693062768: TensorSpec(shape=(), dtype=tf.resource, name=None)\n",
      "  132872693059424: TensorSpec(shape=(), dtype=tf.resource, name=None)\n",
      "  132872693060832: TensorSpec(shape=(), dtype=tf.resource, name=None)\n",
      "  132872693065232: TensorSpec(shape=(), dtype=tf.resource, name=None)\n",
      "  132872693065584: TensorSpec(shape=(), dtype=tf.resource, name=None)\n",
      "  132872693066992: TensorSpec(shape=(), dtype=tf.resource, name=None)\n",
      "  132872693063472: TensorSpec(shape=(), dtype=tf.resource, name=None)\n",
      "  132872693064880: TensorSpec(shape=(), dtype=tf.resource, name=None)\n",
      "  132872693069280: TensorSpec(shape=(), dtype=tf.resource, name=None)\n",
      "  132872693069632: TensorSpec(shape=(), dtype=tf.resource, name=None)\n",
      "  132872693071040: TensorSpec(shape=(), dtype=tf.resource, name=None)\n",
      "  132872693067520: TensorSpec(shape=(), dtype=tf.resource, name=None)\n",
      "  132872693068928: TensorSpec(shape=(), dtype=tf.resource, name=None)\n",
      "  132872693069808: TensorSpec(shape=(), dtype=tf.resource, name=None)\n",
      "  132872693187504: TensorSpec(shape=(), dtype=tf.resource, name=None)\n",
      "  132872693188384: TensorSpec(shape=(), dtype=tf.resource, name=None)\n",
      "  132872693189616: TensorSpec(shape=(), dtype=tf.resource, name=None)\n",
      "  132872693187856: TensorSpec(shape=(), dtype=tf.resource, name=None)\n",
      "  132872693071568: TensorSpec(shape=(), dtype=tf.resource, name=None)\n",
      "  132872693191200: TensorSpec(shape=(), dtype=tf.resource, name=None)\n",
      "  132872693193664: TensorSpec(shape=(), dtype=tf.resource, name=None)\n",
      "  132872693190320: TensorSpec(shape=(), dtype=tf.resource, name=None)\n",
      "  132872693191728: TensorSpec(shape=(), dtype=tf.resource, name=None)\n",
      "  132872695510320: TensorSpec(shape=(), dtype=tf.resource, name=None)\n",
      "  132872694664000: TensorSpec(shape=(), dtype=tf.resource, name=None)\n",
      "  132872693200352: TensorSpec(shape=(), dtype=tf.resource, name=None)\n",
      "  132872693201056: TensorSpec(shape=(), dtype=tf.resource, name=None)\n",
      "  132872694635280: TensorSpec(shape=(), dtype=tf.resource, name=None)\n",
      "  132872694634576: TensorSpec(shape=(), dtype=tf.resource, name=None)\n",
      "The model has been saved in a small size without losing resolution. ✅\n"
     ]
    }
   ],
   "source": [
    "import tensorflow as tf\n",
    "\n",
    "converter = tf.lite.TFLiteConverter.from_keras_model(model)\n",
    "converter.optimizations = [tf.lite.Optimize.DEFAULT]\n",
    "converter.target_spec.supported_types = [tf.float16]  # ضغط الأوزان إلى 16-bit\n",
    "\n",
    "tflite_model = converter.convert()\n",
    "\n",
    "with open(\"model_float16.tflite\", \"wb\") as f:\n",
    "    f.write(tflite_model)\n",
    "\n",
    "print(\"The model has been saved in a small size without losing resolution. ✅\")"
   ]
  },
  {
   "cell_type": "code",
   "execution_count": 27,
   "metadata": {
    "execution": {
     "iopub.execute_input": "2025-03-30T19:26:38.914332Z",
     "iopub.status.busy": "2025-03-30T19:26:38.914043Z",
     "iopub.status.idle": "2025-03-30T19:26:39.028180Z",
     "shell.execute_reply": "2025-03-30T19:26:39.027460Z",
     "shell.execute_reply.started": "2025-03-30T19:26:38.914310Z"
    },
    "trusted": true
   },
   "outputs": [
    {
     "name": "stdout",
     "output_type": "stream",
     "text": [
      "Predicted Class: FALL ([[0.00012853]])\n"
     ]
    }
   ],
   "source": [
    "import numpy as np\n",
    "import tensorflow as tf\n",
    "from tensorflow.keras.preprocessing import image\n",
    "\n",
    "# 📌 تحميل النموذج المضغوط (Float16 TFLite)\n",
    "interpreter = tf.lite.Interpreter(model_path=\"model_float16.tflite\")\n",
    "interpreter.allocate_tensors()\n",
    "\n",
    "# 📌 الحصول على تفاصيل المدخلات والمخرجات\n",
    "input_details = interpreter.get_input_details()\n",
    "output_details = interpreter.get_output_details()\n",
    "\n",
    "# 📌 تحميل الصورة وإعدادها بنفس تنسيق النموذج\n",
    "img_path = \"/kaggle/input/testing-2/download (1).jpeg\"\n",
    "img = image.load_img(img_path, target_size=(612, 408))  # تأكد من أن الحجم متوافق مع النموذج\n",
    "img_array = image.img_to_array(img)\n",
    "img_array = np.expand_dims(img_array, axis=0)  # إضافة بعد الدُفعة (batch)\n",
    "img_array = img_array.astype(np.float32) / 255.0  # التأكد من نوع البيانات\n",
    "\n",
    "# 📌 وضع البيانات في المفسر (Interpreter)\n",
    "interpreter.set_tensor(input_details[0]['index'], img_array)\n",
    "\n",
    "# 📌 تشغيل التنبؤ\n",
    "interpreter.invoke()\n",
    "\n",
    "# 📌 استخراج النتيجة\n",
    "prediction = interpreter.get_tensor(output_details[0]['index'])\n",
    "predicted_class = \"NOT FALL\" if prediction > 0.5 else \"FALL\"\n",
    "\n",
    "# 📌 طباعة النتيجة\n",
    "print(f\"Predicted Class: {predicted_class} ({prediction})\")"
   ]
  }
 ],
 "metadata": {
  "kaggle": {
   "accelerator": "gpu",
   "dataSources": [
    {
     "datasetId": 6886932,
     "sourceId": 11054230,
     "sourceType": "datasetVersion"
    },
    {
     "datasetId": 6959127,
     "sourceId": 11153900,
     "sourceType": "datasetVersion"
    },
    {
     "datasetId": 6984019,
     "sourceId": 11187722,
     "sourceType": "datasetVersion"
    }
   ],
   "dockerImageVersionId": 30918,
   "isGpuEnabled": true,
   "isInternetEnabled": true,
   "language": "python",
   "sourceType": "notebook"
  },
  "kernelspec": {
   "display_name": "Python 3",
   "language": "python",
   "name": "python3"
  },
  "language_info": {
   "codemirror_mode": {
    "name": "ipython",
    "version": 3
   },
   "file_extension": ".py",
   "mimetype": "text/x-python",
   "name": "python",
   "nbconvert_exporter": "python",
   "pygments_lexer": "ipython3",
   "version": "3.10.12"
  }
 },
 "nbformat": 4,
 "nbformat_minor": 4
}
